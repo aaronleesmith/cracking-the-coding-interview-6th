{
 "cells": [
  {
   "cell_type": "markdown",
   "metadata": {},
   "source": [
    "**1.1 Is Unique** Implement an algorithm to determine if a string has all unique characters. What if you cannot use additional data structures?"
   ]
  },
  {
   "cell_type": "code",
   "execution_count": 12,
   "metadata": {
    "collapsed": false
   },
   "outputs": [],
   "source": [
    "# BCR: O(n) -- we have to look at each item at least once.\n",
    "\n",
    "'''\n",
    "This O(n) implementation takes at most O(n) space.\n",
    "'''\n",
    "def string_has_unique_characters(str):\n",
    "    if (len(str) <= 1):\n",
    "        return True\n",
    "    \n",
    "    characters = {}\n",
    "    for i, char in enumerate(str):\n",
    "        if char in characters:\n",
    "            return False\n",
    "        characters[char] = True\n",
    "    return True\n",
    "\n",
    "'''\n",
    "This implementation isn't quite O(n). \n",
    "Each iteration, we never look at the string section we have already seen. \n",
    "This invariant looks like this:\n",
    "n, n-1, n-2, n-3... 1\n",
    "'''\n",
    "def string_has_unique_characters_no_additional_data_structures(str):\n",
    "    if (len(str) <= 1):\n",
    "        return True\n",
    "    \n",
    "    # Each iteration, we only have to look forward.\n",
    "    for i, char in enumerate(str):\n",
    "        if char in str[i+1::]:\n",
    "            return False\n",
    "        \n",
    "    return True"
   ]
  },
  {
   "cell_type": "code",
   "execution_count": 13,
   "metadata": {
    "collapsed": false
   },
   "outputs": [],
   "source": [
    "assert(string_has_unique_characters(\"a\") == True)\n",
    "assert(string_has_unique_characters(\"ab\") == True)\n",
    "assert(string_has_unique_characters(\"aa\") == False)\n",
    "assert(string_has_unique_characters(\"abc\") == True)\n",
    "assert(string_has_unique_characters(\"abcdefghijka\") == False)\n",
    "\n",
    "assert(string_has_unique_characters_no_additional_data_structures(\"a\") == True)\n",
    "assert(string_has_unique_characters_no_additional_data_structures(\"ab\") == True)\n",
    "assert(string_has_unique_characters_no_additional_data_structures(\"aa\") == False)\n",
    "assert(string_has_unique_characters_no_additional_data_structures(\"abc\") == True)\n",
    "assert(string_has_unique_characters_no_additional_data_structures(\"abcdefghijka\") == False)"
   ]
  },
  {
   "cell_type": "markdown",
   "metadata": {},
   "source": [
    "*1.2 Check Permutation* Given two strings, write a method to decide if one is a permutation of the other."
   ]
  },
  {
   "cell_type": "code",
   "execution_count": 54,
   "metadata": {
    "collapsed": true
   },
   "outputs": [],
   "source": [
    "# BCR: O(2 * n) (where n is the length of one string)\n",
    "\n",
    "'''\n",
    "Checks if string_one is a permutation of string_two.\n",
    "\n",
    "Permutations can be a reordering, but they must have the same length and the character counts much match.\n",
    "\n",
    "This impl uses a hash of characters. It takes O(2 * n) to fill it up and O(1) to do the check. Therefore, the runtime is O(n).\n",
    "'''\n",
    "def check_permutation(string_one, string_two):\n",
    "    if (len(string_one) != len(string_two)):\n",
    "        return False\n",
    "    \n",
    "    if (len(string_one) == 0): \n",
    "        return True\n",
    "    \n",
    "    characters = {}\n",
    "    for idx, char in enumerate(string_one):\n",
    "        if char in characters:\n",
    "            characters[char] += 1\n",
    "        else:\n",
    "            characters[char] = 1\n",
    "            \n",
    "\n",
    "    for idx, char in enumerate(string_two):\n",
    "        if not char in characters:\n",
    "            return False\n",
    "        \n",
    "        characters[char] -= 1\n",
    "        if characters[char] == 0:\n",
    "            del characters[char]\n",
    "            \n",
    "    if len(characters) > 0:\n",
    "        return False\n",
    "        \n",
    "    return True"
   ]
  },
  {
   "cell_type": "code",
   "execution_count": 58,
   "metadata": {
    "collapsed": false
   },
   "outputs": [],
   "source": [
    "assert(check_permutation(\"\", \"\") == True)\n",
    "assert(check_permutation(\"a\", \"a\") == True)\n",
    "assert(check_permutation(\"a\", \"b\") == False)\n",
    "assert(check_permutation(\"aa\", \"ba\") == False)\n",
    "assert(check_permutation(\"abba\", \"baba\") == True)\n",
    "assert(check_permutation(\"abbac\", \"dbaba\") == False)"
   ]
  },
  {
   "cell_type": "markdown",
   "metadata": {},
   "source": [
    "**1.3 URLify** Write a method to replace all spaces in a string with '%20: You may assume that the string has sufficient space at the end to hold the additional characters, and that you are given the \"true\" length of the string."
   ]
  },
  {
   "cell_type": "markdown",
   "metadata": {},
   "source": [
    "**1.4 Palindrome Permutation** Given a string, write a function to check if it is a permutation of a palindrome. A palindrome is a word or phrase that is the same forwards and backwards. A permutation is a rearrangement of letters.The palindrome does not need to be limited to just dictionary words."
   ]
  },
  {
   "cell_type": "code",
   "execution_count": 77,
   "metadata": {
    "collapsed": false
   },
   "outputs": [],
   "source": [
    "'''\n",
    "A palindrome must be the same backwards and forwards. The key insight here is that there can be 0 or 1 characters which do not have a \"match\".\n",
    "Therefore, we can keep track of how many of each character we have found and keep track of how many are orphans.\n",
    "If we have more than 1 orphan, it is not a palindrome.\n",
    "\n",
    "Runetime: O(n)\n",
    "'''\n",
    "\n",
    "def is_string_permutation_of_palindrome(str):\n",
    "    if (len(str) <= 2):\n",
    "        return True\n",
    "    \n",
    "    # Populate the characters and don't consider characters for which perfect matches for them exist.\n",
    "    characters = {}\n",
    "    for idx, char in enumerate(str):\n",
    "        if char in characters:\n",
    "            del characters[char]\n",
    "        else:\n",
    "            characters[char] = 1\n",
    "            \n",
    "    # The characters dict now contains characters which have no matches. We can have at most ONE of these if we want a legal palindrome.\n",
    "    if len(characters) > 1:\n",
    "        return False\n",
    "    return True"
   ]
  },
  {
   "cell_type": "code",
   "execution_count": 78,
   "metadata": {
    "collapsed": false
   },
   "outputs": [],
   "source": [
    "assert(is_string_permutation_of_palindrome(\"a\") == True)\n",
    "assert(is_string_permutation_of_palindrome(\"ab\") == True)\n",
    "assert(is_string_permutation_of_palindrome(\"aba\") == True)\n",
    "assert(is_string_permutation_of_palindrome(\"abaa\") == False)\n",
    "assert(is_string_permutation_of_palindrome(\"abaaa\") == True)\n",
    "assert(is_string_permutation_of_palindrome(\"abbaaa\") == True)\n",
    "assert(is_string_permutation_of_palindrome(\"abbaaac\") == True)\n",
    "assert(is_string_permutation_of_palindrome(\"abbaac\") == False)\n",
    "assert(is_string_permutation_of_palindrome(\"abbac\") == True)"
   ]
  },
  {
   "cell_type": "code",
   "execution_count": null,
   "metadata": {
    "collapsed": true
   },
   "outputs": [],
   "source": []
  }
 ],
 "metadata": {
  "kernelspec": {
   "display_name": "Python 3",
   "language": "python",
   "name": "python3"
  },
  "language_info": {
   "codemirror_mode": {
    "name": "ipython",
    "version": 3
   },
   "file_extension": ".py",
   "mimetype": "text/x-python",
   "name": "python",
   "nbconvert_exporter": "python",
   "pygments_lexer": "ipython3",
   "version": "3.5.2"
  }
 },
 "nbformat": 4,
 "nbformat_minor": 1
}
